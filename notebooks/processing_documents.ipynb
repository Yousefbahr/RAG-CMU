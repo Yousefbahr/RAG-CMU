{
  "nbformat": 4,
  "nbformat_minor": 0,
  "metadata": {
    "colab": {
      "provenance": []
    },
    "kernelspec": {
      "name": "python3",
      "display_name": "Python 3"
    },
    "language_info": {
      "name": "python"
    }
  },
  "cells": [
    {
      "cell_type": "code",
      "source": [],
      "metadata": {
        "colab": {
          "base_uri": "https://localhost:8080/",
          "height": 35
        },
        "id": "isgIPbZLDIxA",
        "outputId": "e8866725-81ec-4d32-d003-d4dd7317526b"
      },
      "execution_count": 7,
      "outputs": [
        {
          "output_type": "execute_result",
          "data": {
            "text/plain": [
              "'aas aaf'"
            ],
            "application/vnd.google.colaboratory.intrinsic+json": {
              "type": "string"
            }
          },
          "metadata": {},
          "execution_count": 7
        }
      ]
    },
    {
      "cell_type": "code",
      "source": [],
      "metadata": {
        "id": "1ka8O6zpEHxU"
      },
      "execution_count": null,
      "outputs": []
    },
    {
      "cell_type": "code",
      "source": [],
      "metadata": {
        "id": "9FX4yS2xEHmA"
      },
      "execution_count": null,
      "outputs": []
    },
    {
      "cell_type": "code",
      "execution_count": 44,
      "metadata": {
        "id": "mRbqXRWqDGbi"
      },
      "outputs": [],
      "source": [
        "import re\n",
        "\n",
        "def clean_file(file_name):\n",
        "  with open(file_name, \"r\") as f:\n",
        "    raw_text = f.readlines()\n",
        "\n",
        "  raw_text = \"\".join(raw_text)\n",
        "\n",
        "  # Step 1: Remove excessive spacing and tabs\n",
        "  cleaned_text = re.sub(r\"[ \\t]+\", \" \", raw_text)  # Replace tabs and multiple spaces with one space\n",
        "  cleaned_text = re.sub(r\"\\n{3,}\", \"\\n\\n\", cleaned_text)  # Replace 3+ newlines with 2 newlines\n",
        "\n",
        "  # Step 2: Split into potential events using two newlines as delimiter\n",
        "  events = cleaned_text.split(\"\\n\\n\")\n",
        "\n",
        "  # Step 3: Reconstruct cleaned events with proper formatting\n",
        "  formatted_events = []\n",
        "  for event in events:\n",
        "      event = event.strip()\n",
        "      if not event:\n",
        "          continue\n",
        "      formatted_events.append(event)\n",
        "\n",
        "  # Join events with exactly two line breaks between each\n",
        "  final_text = \"\\n\\n\".join(formatted_events)\n",
        "\n",
        "  # Save the cleaned text to a new file\n",
        "  output_path = f\"{file_name}_cleaned\"\n",
        "  with open(output_path, \"w\", encoding=\"utf-8\") as out_file:\n",
        "      out_file.write(final_text)\n",
        "\n",
        "  return output_path"
      ]
    },
    {
      "cell_type": "code",
      "source": [
        "clean_file(\"downtown_pitts/month_1_2024_events\")"
      ],
      "metadata": {
        "id": "w_auOYvED1Uw"
      },
      "execution_count": 14,
      "outputs": []
    },
    {
      "cell_type": "code",
      "source": [
        "def add_separators(file_name):\n",
        "  with open(file_name, \"r\") as f:\n",
        "    raw_text = f.readlines()\n",
        "\n",
        "  # print(raw_text[0])\n",
        "  # print(raw_text[1])\n",
        "  result_raw_text = []\n",
        "\n",
        "  for i, line in enumerate(raw_text):\n",
        "    if i == 2:\n",
        "      result_raw_text.append(\"----------------\\n\\n\")\n",
        "\n",
        "    result_raw_text.append(line)\n",
        "    if line.endswith(\"READ MORE\\n\") or line.endswith(\"READ MORE\"):\n",
        "      result_raw_text.append(\"----------------\\n\\n\")\n",
        "\n",
        "  result_raw_text = \"\".join(result_raw_text)\n",
        "\n",
        "  output_path = f\"{file_name.split('/')[1]}\"\n",
        "  with open(output_path, \"w\", encoding=\"utf-8\") as out_file:\n",
        "      out_file.write(result_raw_text)"
      ],
      "metadata": {
        "id": "HdVUdQUwD8lW"
      },
      "execution_count": 45,
      "outputs": []
    },
    {
      "cell_type": "code",
      "source": [
        "add_separators(\"month_1_2024_events_cleaned.txt\")"
      ],
      "metadata": {
        "id": "HoFpN8CCRUIA"
      },
      "execution_count": 30,
      "outputs": []
    },
    {
      "cell_type": "code",
      "source": [
        "for m in range(1, 13):\n",
        "  file_path = f\"downtown_pitts/month_{m}_2024_events\"\n",
        "\n",
        "  new_file_path = clean_file(file_path)\n",
        "\n",
        "  add_separators(new_file_path)\n"
      ],
      "metadata": {
        "id": "NfvXfvwBRhZC"
      },
      "execution_count": 46,
      "outputs": []
    },
    {
      "cell_type": "code",
      "source": [],
      "metadata": {
        "id": "dMnYOaX4VbQX"
      },
      "execution_count": null,
      "outputs": []
    }
  ]
}